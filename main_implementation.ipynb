{
 "cells": [
  {
   "cell_type": "code",
   "execution_count": 1,
   "metadata": {},
   "outputs": [
    {
     "name": "stderr",
     "output_type": "stream",
     "text": [
      "/home/vinayak/miniconda/envs/Stochastic_depth/lib/python3.6/importlib/_bootstrap.py:205: RuntimeWarning: compiletime version 3.5 of module 'tensorflow.python.framework.fast_tensor_util' does not match runtime version 3.6\n",
      "  return f(*args, **kwds)\n"
     ]
    }
   ],
   "source": [
    "import pandas as pd\n",
    "import matplotlib.pyplot as plt\n",
    "\n",
    "%matplotlib inline\n",
    "%load_ext autoreload\n",
    "%autoreload 2\n",
    "\n",
    "# Import modules\n",
    "from __future__ import print_function\n",
    "import tensorflow as tf\n",
    "import numpy as np\n",
    "from utils.cifar_utils import load_data\n",
    "from matplotlib import pyplot as plt\n",
    "from utils.layer_funcs import *"
   ]
  },
  {
   "cell_type": "markdown",
   "metadata": {},
   "source": [
    "## 1. Load Data"
   ]
  },
  {
   "cell_type": "code",
   "execution_count": 2,
   "metadata": {},
   "outputs": [
    {
     "name": "stdout",
     "output_type": "stream",
     "text": [
      "./data/cifar-10-python.tar.gz already exists. Begin extracting...\n",
      "./data/cifar-10-python.tar.gz already exists. Begin extracting...\n",
      "Train data shape:  (45000, 32, 32, 3)\n",
      "Train labels shape:  (45000,)\n",
      "Validation data shape:  (5000, 32, 32, 3)\n",
      "Validation labels shape:  (5000,)\n",
      "Test data shape (10000, 32, 32, 3)\n",
      "Test labels shape (10000,)\n"
     ]
    }
   ],
   "source": [
    "# Load the raw CIFAR-10 data.\n",
    "X_train, y_train = load_data(mode='train')\n",
    "X_test, y_test = load_data(mode='test')\n",
    "\n",
    "# Data organizations:\n",
    "# Train data: 49000 samples from original train set: 1~49000\n",
    "# Validation data: 1000 samples from original train set: 49000~50000\n",
    "num_training = 45000\n",
    "num_validation = 5000\n",
    "\n",
    "X_val = X_train[-num_validation:, :]\n",
    "y_val = y_train[-num_validation:]\n",
    "\n",
    "X_train = X_train[:num_training, :]\n",
    "y_train = y_train[:num_training]\n",
    "\n",
    "# Preprocessing: subtract the mean value across every dimension for training data, and reshape it to be RGB size\n",
    "mean_image = np.mean(X_train, axis=0)\n",
    "X_train = X_train.astype(np.float32) - mean_image.astype(np.float32)\n",
    "X_val = X_val.astype(np.float32) - mean_image\n",
    "X_test = X_test.astype(np.float32) - mean_image\n",
    "\n",
    "X_train = X_train.reshape([X_train.shape[0],3,32,32]).transpose((0,2,3,1))/255\n",
    "X_val = X_val.reshape([X_val.shape[0],3,32,32]).transpose((0,2,3,1))/255\n",
    "X_test = X_test.reshape([X_test.shape[0],3,32,32]).transpose((0,2,3,1))/255\n",
    "\n",
    "# X_train = X_train.reshape([-1,3,32,32])/255\n",
    "# X_val = X_val.reshape([-1,3,32,32])/255\n",
    "# X_test = X_test.reshape([-1,3,32,32])/255\n",
    "\n",
    "print('Train data shape: ', X_train.shape)\n",
    "print('Train labels shape: ', y_train.shape)\n",
    "print('Validation data shape: ', X_val.shape)\n",
    "print('Validation labels shape: ', y_val.shape)\n",
    "print('Test data shape', X_test.shape)\n",
    "print('Test labels shape', y_test.shape)\n"
   ]
  },
  {
   "cell_type": "markdown",
   "metadata": {},
   "source": [
    "## 2. Data Augmentation"
   ]
  },
  {
   "cell_type": "code",
   "execution_count": 17,
   "metadata": {},
   "outputs": [],
   "source": [
    "def flip_images(X_imgs):\n",
    "    X_flip = []\n",
    "    tf.reset_default_graph()\n",
    "    X = tf.placeholder(tf.float32, shape = (32, 32, 3))\n",
    "    tf_img1 = tf.image.flip_left_right(X)\n",
    "#     tf_img2 = tf.image.flip_up_down(X)\n",
    "#     tf_img3 = tf.image.transpose_image(X)\n",
    "    with tf.Session() as sess:\n",
    "        sess.run(tf.global_variables_initializer())\n",
    "        for img in X_imgs:\n",
    "            flipped_imgs = sess.run(tf_img1, feed_dict = {X: img})\n",
    "            X_flip.append(flipped_imgs)\n",
    "    X_flip = np.array(X_flip, dtype = np.float32)\n",
    "    return X_flip\n",
    "\n",
    "flipped_images = flip_images(X_train[:10])"
   ]
  },
  {
   "cell_type": "code",
   "execution_count": 29,
   "metadata": {},
   "outputs": [],
   "source": [
    "def translation(X_imgs):\n",
    "    X_translate = []\n",
    "    tf.reset_default_graph()\n",
    "    X = tf.placeholder(tf.float32, shape = (32, 32, 3))\n",
    "    tf_img1 = tf.contrib.image.transform(X,[1, 0, 4, 0, 1, 4, 0, 0])\n",
    "#     tf_img2 = tf.image.flip_up_down(X)\n",
    "#     tf_img3 = tf.image.transpose_image(X)\n",
    "    with tf.Session() as sess:\n",
    "        sess.run(tf.global_variables_initializer())\n",
    "        for img in X_imgs:\n",
    "            translate_imgs = sess.run(tf_img1, feed_dict = {X: img})\n",
    "            X_translate.append(translate_imgs)\n",
    "    X_translate = np.array(X_translate, dtype = np.float32)\n",
    "    return X_translate\n",
    "    \n",
    "translated_images = translation(X_train[0:10])    \n",
    "    "
   ]
  },
  {
   "cell_type": "code",
   "execution_count": 30,
   "metadata": {},
   "outputs": [
    {
     "data": {
      "text/plain": [
       "<matplotlib.image.AxesImage at 0x7f0f1b20c9e8>"
      ]
     },
     "execution_count": 30,
     "metadata": {},
     "output_type": "execute_result"
    },
    {
     "data": {
      "image/png": "[encoded data removed]",
      "text/plain": [
       "<matplotlib.figure.Figure at 0x7f0f1b2a02b0>"
      ]
     },
     "metadata": {},
     "output_type": "display_data"
    }
   ],
   "source": [
    "plt.imshow(translated_images[0])"
   ]
  },
  {
   "cell_type": "code",
   "execution_count": null,
   "metadata": {
    "collapsed": true
   },
   "outputs": [],
   "source": []
  }
 ],
 "metadata": {
  "kernelspec": {
   "display_name": "Python 3",
   "language": "python",
   "name": "python3"
  },
  "language_info": {
   "codemirror_mode": {
    "name": "ipython",
    "version": 3
   },
   "file_extension": ".py",
   "mimetype": "text/x-python",
   "name": "python",
   "nbconvert_exporter": "python",
   "pygments_lexer": "ipython3",
   "version": "3.6.2"
  }
 },
 "nbformat": 4,
 "nbformat_minor": 2
}
