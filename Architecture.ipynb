{
 "cells": [
  {
   "cell_type": "code",
   "execution_count": 1,
   "metadata": {},
   "outputs": [],
   "source": [
    "import tensorflow as tf\n",
    "import numpy as np"
   ]
  },
  {
   "cell_type": "code",
   "execution_count": 2,
   "metadata": {},
   "outputs": [],
   "source": [
    "from layers import *"
   ]
  },
  {
   "cell_type": "code",
   "execution_count": 3,
   "metadata": {},
   "outputs": [],
   "source": [
    "X = np.random.normal(size=[128, 32, 32, 16])"
   ]
  },
  {
   "cell_type": "code",
   "execution_count": 4,
   "metadata": {},
   "outputs": [],
   "source": [
    "inputs = tf.placeholder(dtype=tf.float32, shape=[None, 32, 32, 16])\n",
    "random_rolls = tf.placeholder(dtype=tf.float32, shape=[54])"
   ]
  },
  {
   "cell_type": "code",
   "execution_count": 5,
   "metadata": {},
   "outputs": [],
   "source": [
    "def architecture(inputs, random_rolls, training):\n",
    "    P = 0.5\n",
    "    L = 54\n",
    "    l = 1\n",
    "\n",
    "    out = first_layer(inputs, training, 'input')\n",
    "\n",
    "    with tf.variable_scope('stack1', reuse=tf.AUTO_REUSE):\n",
    "        for i in range(1, 19):\n",
    "            p = 1 - l/L * (1 - P)\n",
    "            out = residual_block(out, 16, p, random_rolls[l-1], training, 'res'+str(i))\n",
    "            l += 1\n",
    "\n",
    "    with tf.variable_scope('stack2', reuse=tf.AUTO_REUSE):\n",
    "        p = 1 - l/L * (1 - P)\n",
    "        out = transition_block(out, 32, p, random_rolls[l-1], training, 'res'+str(1))\n",
    "        l += 1\n",
    "\n",
    "        for i in range(2, 19):\n",
    "            p = 1 - l/L * (1 - P)\n",
    "            out = residual_block(out, 32, p, random_rolls[l-1], training, 'res'+str(i))\n",
    "            l += 1\n",
    "\n",
    "    with tf.variable_scope('stack3', reuse=tf.AUTO_REUSE):\n",
    "        p = 1 - l/L * (1 - P)\n",
    "        out = transition_block(out, 64, p, random_rolls[l-1], training, 'res'+str(1))\n",
    "        l += 1\n",
    "\n",
    "        for i in range(2, 19):\n",
    "            p = 1 - l/L * (1 - P)\n",
    "            out = residual_block(out, 64, p, random_rolls[l-1], training, 'res'+str(i))\n",
    "\n",
    "    return output_layer(out, 'out', 10)"
   ]
  },
  {
   "cell_type": "markdown",
   "metadata": {},
   "source": [
    "# Use ADAM?\n",
    "# Use better initializations?\n",
    "# give probs as feed dict"
   ]
  },
  {
   "cell_type": "code",
   "execution_count": 6,
   "metadata": {},
   "outputs": [],
   "source": [
    "# weights = [var for var in tf.trainable_variables() if 'weights' in var.name]\n",
    "# lr = 0.1\n",
    "# weight_decay = 1e-4\n",
    "# momentum = 0.9\n",
    "# out = architecture(inputs, survives, 'training')\n",
    "# loss = tf.reduce_mean(tf.nn.softmax_cross_entropy_with_logits(logits=out,\n",
    "#                                                               labels=labels)) + \n",
    "#        weight_decay * tf.add_n([tf.nn.l2_loss(weight) for weight in weights])\n",
    "# step = tf.train.MomentumOptimizer(lr, momentum, use_nesterov=True).minimize(loss)\n",
    "# with tf.Session() as sess: \n",
    "#     sess.run(tf.global_variables_initializer())\n",
    "#     for epoch in range(500):\n",
    "#         if epoch in (250, 375):\n",
    "#             lr /= 10\n",
    "#         for minibatch in minibatches:\n",
    "#             random_rolls_batch = np.random.uniform(size=54)\n",
    "#             sess.run(step, feed_dict={inputs: X_train_batch,\n",
    "#                                       random_rolls: random_rolls_batch,\n",
    "#                                       labels: y_train_labels})\n"
   ]
  },
  {
   "cell_type": "code",
   "execution_count": 7,
   "metadata": {},
   "outputs": [],
   "source": [
    "# confirm tensorboard\n",
    "random_rolls_batch = np.random.uniform(size=54)\n",
    "out = architecture(inputs, random_rolls, True)\n",
    "with tf.Session() as sess:\n",
    "    writer = tf.summary.FileWriter('logs', sess.graph)\n",
    "    sess.run(tf.global_variables_initializer())\n",
    "    sess.run(out, feed_dict={inputs: X,\n",
    "                             random_rolls: random_rolls_batch})\n",
    "    writer.close()"
   ]
  },
  {
   "cell_type": "code",
   "execution_count": 8,
   "metadata": {},
   "outputs": [],
   "source": [
    "# # confirm training = False gives same answers\n",
    "# with tf.Session() as sess:\n",
    "#     ls = []\n",
    "#     with tf.variable_scope('stoch_depth', reuse=tf.AUTO_REUSE):\n",
    "#         for i in range(3):\n",
    "#             out = architecture(inputs, False)\n",
    "#             if i == 0:\n",
    "#                 sess.run(tf.global_variables_initializer())\n",
    "#             ls.append(sess.run(out, feed_dict={inputs: X}))"
   ]
  },
  {
   "cell_type": "code",
   "execution_count": 9,
   "metadata": {},
   "outputs": [],
   "source": [
    "# # confirm training = False but new init gives diff answers\n",
    "# with tf.Session() as sess:\n",
    "#     ls = []\n",
    "#     with tf.variable_scope('stoch_depth', reuse=tf.AUTO_REUSE):\n",
    "#         for i in range(3):\n",
    "#             out = architecture(inputs, False)\n",
    "#             sess.run(tf.global_variables_initializer())\n",
    "#             ls.append(sess.run(out, feed_dict={inputs: X}))"
   ]
  },
  {
   "cell_type": "code",
   "execution_count": 10,
   "metadata": {},
   "outputs": [],
   "source": [
    "# confirm training = True gives diff answers\n",
    "# with tf.Session() as sess:\n",
    "#     ls = []\n",
    "#     with tf.variable_scope('stoch_depth', reuse=tf.AUTO_REUSE):\n",
    "#         for i in range(3):\n",
    "#             out = architecture(inputs, True)\n",
    "#             if i == 0:\n",
    "#                 sess.run(tf.global_variables_initializer())\n",
    "#             ls.append(sess.run(out, feed_dict={inputs: X}))"
   ]
  }
 ],
 "metadata": {
  "kernelspec": {
   "display_name": "Python 3",
   "language": "python",
   "name": "python3"
  },
  "language_info": {
   "codemirror_mode": {
    "name": "ipython",
    "version": 3
   },
   "file_extension": ".py",
   "mimetype": "text/x-python",
   "name": "python",
   "nbconvert_exporter": "python",
   "pygments_lexer": "ipython3",
   "version": "3.5.2"
  }
 },
 "nbformat": 4,
 "nbformat_minor": 2
}
