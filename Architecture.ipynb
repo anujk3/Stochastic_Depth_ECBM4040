{
 "cells": [
  {
   "cell_type": "code",
   "execution_count": 1,
   "metadata": {},
   "outputs": [],
   "source": [
    "import tensorflow as tf\n",
    "import numpy as np\n",
    "from layers import architecture, evaluate\n",
    "from utils.cifar_utils import load_data\n",
    "import time"
   ]
  },
  {
   "cell_type": "code",
   "execution_count": 2,
   "metadata": {},
   "outputs": [],
   "source": [
    "start_time = time.time()"
   ]
  },
  {
   "cell_type": "code",
   "execution_count": 69,
   "metadata": {},
   "outputs": [
    {
     "name": "stdout",
     "output_type": "stream",
     "text": [
      "./data/cifar-10-python.tar.gz already exists. Begin extracting...\n",
      "./data/cifar-10-python.tar.gz already exists. Begin extracting...\n"
     ]
    }
   ],
   "source": [
    "# Load the raw CIFAR-10 data.\n",
    "X_train, y_train = load_data(mode='train')\n",
    "X_test, y_test = load_data(mode='test')\n",
    "\n",
    "# shuffle_indices = np.arange(45000)\n",
    "# np.random.shuffle(shuffle_indices,)\n",
    "# X_train = X_train[shuffle_indices]\n",
    "# y_train = y_train[shuffle_indices]\n",
    "\n",
    "# Data organizations:\n",
    "# Train data: 49000 samples from original train set: 1~49000\n",
    "# Validation data: 1000 samples from original train set: 49000~50000\n",
    "num_training = 45000\n",
    "num_validation = 5000\n",
    "\n",
    "X_val = X_train[-num_validation:, :]\n",
    "y_val = y_train[-num_validation:]\n",
    "\n",
    "X_train = X_train[:num_training, :]\n",
    "y_train = y_train[:num_training]"
   ]
  },
  {
   "cell_type": "code",
   "execution_count": 70,
   "metadata": {},
   "outputs": [
    {
     "name": "stdout",
     "output_type": "stream",
     "text": [
      "y_val counts:  [524 495 525 492 511 514 486 505 483 465]\n"
     ]
    }
   ],
   "source": [
    "# print('y_val counts: ', np.bincount(y_val))"
   ]
  },
  {
   "cell_type": "code",
   "execution_count": 4,
   "metadata": {},
   "outputs": [],
   "source": [
    "# X_train = X_train[:256]\n",
    "# y_train = y_train[:256]"
   ]
  },
  {
   "cell_type": "code",
   "execution_count": 6,
   "metadata": {},
   "outputs": [],
   "source": [
    "# Preprocessing: subtract the mean value across every dimension for training data, and reshape it to be RGB size\n",
    "mean_image = np.mean(X_train, axis=0)\n",
    "std_image = np.std(X_train, axis=0)\n",
    "\n",
    "X_train = (X_train.astype(np.float32) - mean_image.astype(np.float32)) / std_image\n",
    "X_val = (X_val.astype(np.float32) - mean_image) / std_image\n",
    "X_test = (X_test.astype(np.float32) - mean_image) / std_image"
   ]
  },
  {
   "cell_type": "code",
   "execution_count": 13,
   "metadata": {},
   "outputs": [
    {
     "name": "stdout",
     "output_type": "stream",
     "text": [
      "Train data shape:  (45000, 32, 32, 3)\n",
      "Train labels shape:  (45000,)\n",
      "Validation data shape:  (5000, 32, 32, 3)\n",
      "Validation labels shape:  (5000,)\n",
      "Test data shape (10000, 32, 32, 3)\n",
      "Test labels shape (10000,)\n"
     ]
    }
   ],
   "source": [
    "X_train = X_train.reshape([X_train.shape[0],3,32,32]).transpose((0,2,3,1))\n",
    "X_val = X_val.reshape([X_val.shape[0],3,32,32]).transpose((0,2,3,1))\n",
    "X_test = X_test.reshape([X_test.shape[0],3,32,32]).transpose((0,2,3,1))\n",
    "\n",
    "print('Train data shape: ', X_train.shape)\n",
    "print('Train labels shape: ', y_train.shape)\n",
    "print('Validation data shape: ', X_val.shape)\n",
    "print('Validation labels shape: ', y_val.shape)\n",
    "print('Test data shape', X_test.shape)\n",
    "print('Test labels shape', y_test.shape)"
   ]
  },
  {
   "cell_type": "markdown",
   "metadata": {},
   "source": [
    "# change ADAM?\n",
    "# Use better initializations for batch_norm?\n",
    "# add model saver/checkpointer. In addition keep track of best validation error and save that model"
   ]
  },
  {
   "cell_type": "code",
   "execution_count": 7,
   "metadata": {},
   "outputs": [],
   "source": [
    "inputs = tf.placeholder(dtype=tf.float32, shape=[None, 32, 32, 3])\n",
    "random_rolls = tf.placeholder(dtype=tf.float32, shape=[54])\n",
    "y_inputs = tf.placeholder(dtype=tf.uint8, shape=[None])\n",
    "is_training = tf.placeholder(dtype=tf.bool)\n",
    "\n",
    "lr = 0.1\n",
    "weight_decay = 1e-4\n",
    "momentum = 0.9\n",
    "batch_size = 128\n",
    "train_size = len(X_train)\n",
    "epochs = 500\n",
    "\n",
    "out = architecture(inputs, random_rolls, is_training, strategy='pad')\n",
    "labels = tf.one_hot(y_inputs, 10)\n",
    "softmax_loss = tf.reduce_mean(tf.nn.softmax_cross_entropy_with_logits(logits=out, labels=labels))\n",
    "# confirm this is right\n",
    "regularizer_loss = weight_decay * tf.add_n([tf.nn.l2_loss(var) for var in tf.trainable_variables('stoch_depth')\n",
    "                                            if 'weights' in var.name])\n",
    "loss = softmax_loss + regularizer_loss\n",
    "training_summary = tf.summary.scalar('train_loss', loss)\n",
    "step = tf.train.MomentumOptimizer(lr, momentum, use_nesterov=True).minimize(loss)\n",
    "# step = tf.train.AdamOptimizer(lr).minimize(loss)\n",
    "eve = evaluate(out, y_val)\n",
    "validation_summary = tf.summary.scalar('Stoch_error', 100 * eve / len(y_val))"
   ]
  },
  {
   "cell_type": "code",
   "execution_count": 8,
   "metadata": {},
   "outputs": [],
   "source": [
    "from datetime import datetime\n",
    "now = datetime.now()\n",
    "# datetime_str = now.strftime(\"%Y%m%d-%H%M%S\")\n",
    "datetime_str = \"20171214-060557\"\n",
    "logdir = \"tf_logs/{}/\".format(datetime_str)"
   ]
  },
  {
   "cell_type": "code",
   "execution_count": null,
   "metadata": {},
   "outputs": [],
   "source": [
    "best_val = np.inf\n",
    "with tf.Session() as sess: \n",
    "    \n",
    "#     merge = tf.summary.merge_all()\n",
    "    writer = tf.summary.FileWriter(logdir, sess.graph)\n",
    "    saver = tf.train.Saver()\n",
    "#     sess.run(tf.global_variables_initializer())\n",
    "    saver.restore(sess, \"checkpoints/{}/best_validation.ckpt\".format(datetime_str))\n",
    "    start_index = 0\n",
    "    iter_number = 30340\n",
    "    for epoch in range(87, epochs):\n",
    "        epoch_start_time = time.time()\n",
    "        if epoch in (250, 375):\n",
    "            lr /= 10\n",
    "        for _ in range(train_size // batch_size):\n",
    "            iter_number += 1\n",
    "            if start_index + batch_size >= train_size:\n",
    "                diff = start_index + batch_size - train_size\n",
    "                indices = list(range(start_index, train_size)) + list(range(diff))\n",
    "                start_index = diff\n",
    "            else:\n",
    "                indices = list(range(start_index, start_index + batch_size))\n",
    "                start_index += batch_size\n",
    "\n",
    "            X_train_batch, y_train_batch = X_train[indices], y_train[indices]\n",
    "            # data augmentation\n",
    "            for inx in range(batch_size):\n",
    "                x_offset = np.random.randint(-4, 4)\n",
    "                y_offset = np.random.randint(-4, 4)\n",
    "                flip_bool = np.random.uniform() > .5\n",
    "                X_train_batch[inx] = np.roll(X_train_batch[inx], (x_offset, y_offset), axis=(0, 1))\n",
    "                if flip_bool:\n",
    "                    X_train_batch[inx] = np.flip(X_train_batch[inx], axis=1)\n",
    "\n",
    "            random_rolls_batch = np.random.uniform(size=54)\n",
    "            _, loss_val, train_summ = sess.run([step, loss, training_summary], feed_dict={inputs: X_train_batch,\n",
    "                                                                                          random_rolls: random_rolls_batch,\n",
    "                                                                                          y_inputs: y_train_batch,\n",
    "                                                                                          is_training: True})\n",
    "            writer.add_summary(train_summ, iter_number)\n",
    "\n",
    "            if iter_number % 100 == 0:\n",
    "                val, val_summ = sess.run([eve, validation_summary], feed_dict={inputs: X_val,\n",
    "                                                                               random_rolls: random_rolls_batch,\n",
    "                                                                               is_training: False}) # random_rolls is irrelevant\n",
    "                val = val * 100 / y_val.shape[0]\n",
    "                    \n",
    "                print('###########')\n",
    "                print(\"epoch number {}, train loss {}, validation error {}\".format(epoch + 1, loss_val, val))\n",
    "                print(\"###########\")\n",
    "        \n",
    "                # save the merge result summary\n",
    "                writer.add_summary(val_summ, iter_number)\n",
    "        if epoch % 10 == 0:\n",
    "            save_path = saver.save(sess, 'checkpoints/{}/model.ckpt'.format(datetime_str))\n",
    "            print(\"Model saved in file: %s\" % save_path)\n",
    "        if val < best_val:\n",
    "            best_val = val\n",
    "            save_path = saver.save(sess, 'checkpoints/{}/best_validation.ckpt'.format(datetime_str))\n",
    "            print(\"Best validation model saved in file: %s\" % save_path)\n",
    "        print(\"epoch_time =\", epoch_start_time - time.time())\n",
    "            \n",
    "    writer.close()"
   ]
  },
  {
   "cell_type": "code",
   "execution_count": null,
   "metadata": {},
   "outputs": [],
   "source": [
    "print(time.time() - start_time)"
   ]
  },
  {
   "cell_type": "markdown",
   "metadata": {},
   "source": [
    "# Tests (ignore)"
   ]
  },
  {
   "cell_type": "code",
   "execution_count": null,
   "metadata": {},
   "outputs": [],
   "source": [
    "# # confirm tensorboard\n",
    "# random_rolls_batch = np.random.uniform(size=54)\n",
    "# X_train_batch = X_train[list(range(20))]\n",
    "# with tf.Session() as sess:\n",
    "#     writer = tf.summary.FileWriter('logs', sess.graph)\n",
    "#     sess.run(tf.global_variables_initializer())\n",
    "#     sess.run(out, feed_dict={inputs: X_train_batch,\n",
    "#                              random_rolls: random_rolls_batch,\n",
    "#                              is_training: True})\n",
    "#     sess.run(out, feed_dict={inputs: X_val,\n",
    "#                              random_rolls: random_rolls_batch,\n",
    "#                              is_training: False})\n",
    "#     writer.close()"
   ]
  },
  {
   "cell_type": "code",
   "execution_count": 13,
   "metadata": {},
   "outputs": [],
   "source": [
    "# confirm training = False gives same answers\n",
    "# X_train_batch = X_train[:20]\n",
    "# with tf.Session() as sess:\n",
    "#     ls = []\n",
    "#     for i in range(3):\n",
    "#         random_rolls_batch = np.random.uniform(size=54)\n",
    "#         if i == 0:\n",
    "#             sess.run(tf.global_variables_initializer())\n",
    "#         ls.append(sess.run(out, feed_dict={inputs: X_train_batch,\n",
    "#                                            random_rolls: random_rolls_batch,\n",
    "#                                            is_training: True}))"
   ]
  },
  {
   "cell_type": "code",
   "execution_count": null,
   "metadata": {
    "collapsed": true
   },
   "outputs": [],
   "source": [
    "# # confirm training = False but new init gives diff answers\n",
    "# with tf.Session() as sess:\n",
    "#     ls = []\n",
    "#     with tf.variable_scope('stoch_depth', reuse=tf.AUTO_REUSE):\n",
    "#         for i in range(3):\n",
    "#             out = architecture(inputs, False)\n",
    "#             sess.run(tf.global_variables_initializer())\n",
    "#             ls.append(sess.run(out, feed_dict={inputs: X}))"
   ]
  },
  {
   "cell_type": "code",
   "execution_count": null,
   "metadata": {
    "collapsed": true
   },
   "outputs": [],
   "source": [
    "# confirm training = True gives diff answers\n",
    "# with tf.Session() as sess:\n",
    "#     ls = []\n",
    "#     with tf.variable_scope('stoch_depth', reuse=tf.AUTO_REUSE):\n",
    "#         for i in range(3):\n",
    "#             out = architecture(inputs, True)\n",
    "#             if i == 0:\n",
    "#                 sess.run(tf.global_variables_initializer())\n",
    "#             ls.append(sess.run(out, feed_dict={inputs: X}))"
   ]
  }
 ],
 "metadata": {
  "kernelspec": {
   "display_name": "Python 3",
   "language": "python",
   "name": "python3"
  },
  "language_info": {
   "codemirror_mode": {
    "name": "ipython",
    "version": 3
   },
   "file_extension": ".py",
   "mimetype": "text/x-python",
   "name": "python",
   "nbconvert_exporter": "python",
   "pygments_lexer": "ipython3",
   "version": "3.5.2"
  }
 },
 "nbformat": 4,
 "nbformat_minor": 2
}
