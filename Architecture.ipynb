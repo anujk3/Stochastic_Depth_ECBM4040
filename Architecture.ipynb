{
 "cells": [
  {
   "cell_type": "code",
   "execution_count": 1,
   "metadata": {},
   "outputs": [
    {
     "name": "stderr",
     "output_type": "stream",
     "text": [
      "/Users/anujkatiyal/miniconda3/envs/dl_tf/lib/python3.6/importlib/_bootstrap.py:205: RuntimeWarning: compiletime version 3.5 of module 'tensorflow.python.framework.fast_tensor_util' does not match runtime version 3.6\n",
      "  return f(*args, **kwds)\n"
     ]
    }
   ],
   "source": [
    "import tensorflow as tf\n",
    "import numpy as np\n",
    "from layers import architecture, evaluate\n",
    "from utils.cifar_utils import load_data"
   ]
  },
  {
   "cell_type": "code",
   "execution_count": 3,
   "metadata": {},
   "outputs": [
    {
     "name": "stdout",
     "output_type": "stream",
     "text": [
      "./data/cifar-10-python.tar.gz already exists. Begin extracting...\n",
      "./data/cifar-10-python.tar.gz already exists. Begin extracting...\n",
      "Train data shape:  (45000, 32, 32, 3)\n",
      "Train labels shape:  (45000,)\n",
      "Validation data shape:  (5000, 32, 32, 3)\n",
      "Validation labels shape:  (5000,)\n",
      "Test data shape (10000, 32, 32, 3)\n",
      "Test labels shape (10000,)\n"
     ]
    }
   ],
   "source": [
    "# Load the raw CIFAR-10 data.\n",
    "X_train, y_train = load_data(mode='train')\n",
    "X_test, y_test = load_data(mode='test')\n",
    "\n",
    "# Data organizations:\n",
    "# Train data: 49000 samples from original train set: 1~49000\n",
    "# Validation data: 1000 samples from original train set: 49000~50000\n",
    "num_training = 45000\n",
    "num_validation = 5000\n",
    "\n",
    "X_val = X_train[-num_validation:, :]\n",
    "y_val = y_train[-num_validation:]\n",
    "\n",
    "X_train = X_train[:num_training, :]\n",
    "y_train = y_train[:num_training]\n",
    "\n",
    "# Preprocessing: subtract the mean value across every dimension for training data, and reshape it to be RGB size\n",
    "mean_image = np.mean(X_train, axis=0)\n",
    "std_image = np.std(X_train, axis=0)\n",
    "\n",
    "X_train = (X_train.astype(np.float32) - mean_image.astype(np.float32)) / std_image\n",
    "X_val = (X_val.astype(np.float32) - mean_image) / std_image\n",
    "X_test = (X_test.astype(np.float32) - mean_image) / std_image\n",
    "\n",
    "X_train = X_train.reshape([X_train.shape[0],3,32,32]).transpose((0,2,3,1))\n",
    "X_val = X_val.reshape([X_val.shape[0],3,32,32]).transpose((0,2,3,1))\n",
    "X_test = X_test.reshape([X_test.shape[0],3,32,32]).transpose((0,2,3,1))\n",
    "\n",
    "print('Train data shape: ', X_train.shape)\n",
    "print('Train labels shape: ', y_train.shape)\n",
    "print('Validation data shape: ', X_val.shape)\n",
    "print('Validation labels shape: ', y_val.shape)\n",
    "print('Test data shape', X_test.shape)\n",
    "print('Test labels shape', y_test.shape)\n"
   ]
  },
  {
   "cell_type": "markdown",
   "metadata": {},
   "source": [
    "# Use ADAM?\n",
    "# Use better initializations?"
   ]
  },
  {
   "cell_type": "code",
   "execution_count": 4,
   "metadata": {},
   "outputs": [
    {
     "name": "stdout",
     "output_type": "stream",
     "text": [
      "INFO:tensorflow:Summary name Stoch error is illegal; using Stoch_error instead.\n"
     ]
    }
   ],
   "source": [
    "inputs = tf.placeholder(dtype=tf.float32, shape=[None, 32, 32, 3])\n",
    "random_rolls = tf.placeholder(dtype=tf.float32, shape=[54])\n",
    "y_inputs = tf.placeholder(dtype=tf.uint8, shape=[None])\n",
    "is_training = tf.placeholder(dtype=tf.bool)\n",
    "\n",
    "lr = 0.1\n",
    "weight_decay = 1e-4\n",
    "momentum = 0.9\n",
    "batch_size = 128\n",
    "train_size = 45000\n",
    "epochs = 500\n",
    "\n",
    "with tf.variable_scope('stoch_depth'):\n",
    "    out = architecture(inputs, random_rolls, is_training)\n",
    "labels = tf.one_hot(y_inputs, 10)\n",
    "softmax_loss = tf.reduce_mean(tf.nn.softmax_cross_entropy_with_logits(logits=out, labels=labels))\n",
    "regularizer_loss = weight_decay * tf.add_n([tf.nn.l2_loss(var) for var in tf.trainable_variables('stoch_depth')\n",
    "                                            if 'weights' in var.name])\n",
    "loss = softmax_loss + regularizer_loss\n",
    "step = tf.train.MomentumOptimizer(lr, momentum, use_nesterov=True).minimize(loss)\n",
    "eve = evaluate(out, y_val)"
   ]
  },
  {
   "cell_type": "code",
   "execution_count": null,
   "metadata": {
    "scrolled": false
   },
   "outputs": [],
   "source": [
    "with tf.Session() as sess: \n",
    "    \n",
    "    merge = tf.summary.merge_all()\n",
    "    writer = tf.summary.FileWriter(\"logs\", sess.graph)\n",
    "    saver = tf.train.Saver()\n",
    "    sess.run(tf.global_variables_initializer())\n",
    "    \n",
    "    start_index = 0\n",
    "    iter_number = -1\n",
    "    for epoch in range(epochs):\n",
    "        if epoch in (250, 375):\n",
    "            lr /= 10\n",
    "        for _ in range(train_size // batch_size):\n",
    "            iter_number += 1\n",
    "            if start_index + batch_size >= train_size:\n",
    "                diff = start_index + batch_size - train_size\n",
    "                indices = list(range(start_index, train_size)) + list(range(diff))\n",
    "                start_index = diff\n",
    "            else:\n",
    "                indices = list(range(start_index, start_index + batch_size))\n",
    "                start_index += batch_size\n",
    "\n",
    "            X_train_batch, y_train_batch = X_train[indices], y_train[indices]\n",
    "            # data augmentation\n",
    "            x_offset = np.random.randint(-4, 4)\n",
    "            y_offset = np.random.randint(-4, 4)\n",
    "            flip_bool = np.random.uniform() > .5\n",
    "            X_train_batch = np.roll(X_train_batch, (x_offset, y_offset), axis=(1, 2))\n",
    "            if flip_bool:\n",
    "                X_train_batch = np.flip(X_train_batch, axis=2)\n",
    "\n",
    "            random_rolls_batch = np.random.uniform(size=54)\n",
    "            _, loss_val = sess.run([step, loss], feed_dict={inputs: X_train_batch,\n",
    "                                                            random_rolls: random_rolls_batch,\n",
    "                                                            y_inputs: y_train_batch,\n",
    "                                                            is_training: True})\n",
    "            if iter_number % 1 == 0:\n",
    "                val, merge_result = sess.run([eve, merge], feed_dict={inputs: X_val,\n",
    "                                                   random_rolls: random_rolls_batch,\n",
    "                                                   is_training: False}) # random_rolls is irrelevant\n",
    "                val = 100 - val * 100 / y_val.shape[0]\n",
    "                    \n",
    "                print('###########')\n",
    "                print(\"epoch number {}, train loss {}, validation error {}\".format(epoch, loss_val, val))\n",
    "                print(\"###########\")\n",
    "                \n",
    "                # save the merge result summary\n",
    "                writer.add_summary(merge_result, iter_number)\n",
    "            \n",
    "    writer.close()"
   ]
  },
  {
   "cell_type": "markdown",
   "metadata": {},
   "source": [
    "# Tests (ignore)"
   ]
  },
  {
   "cell_type": "code",
   "execution_count": null,
   "metadata": {
    "collapsed": true
   },
   "outputs": [],
   "source": [
    "# # confirm tensorboard\n",
    "# random_rolls_batch = np.random.uniform(size=54)\n",
    "# X_train_batch = X_train[list(range(20))]\n",
    "# with tf.Session() as sess:\n",
    "#     writer = tf.summary.FileWriter('logs', sess.graph)\n",
    "#     sess.run(tf.global_variables_initializer())\n",
    "#     sess.run(out, feed_dict={inputs: X_train_batch,\n",
    "#                              random_rolls: random_rolls_batch,\n",
    "#                              is_training: True})\n",
    "#     sess.run(out, feed_dict={inputs: X_val,\n",
    "#                              random_rolls: random_rolls_batch,\n",
    "#                              is_training: False})\n",
    "#     writer.close()"
   ]
  },
  {
   "cell_type": "code",
   "execution_count": null,
   "metadata": {
    "collapsed": true
   },
   "outputs": [],
   "source": [
    "# # confirm training = False gives same answers\n",
    "# with tf.Session() as sess:\n",
    "#     ls = []\n",
    "#     with tf.variable_scope('stoch_depth', reuse=tf.AUTO_REUSE):\n",
    "#         for i in range(3):\n",
    "#             out = architecture(inputs, False)\n",
    "#             if i == 0:\n",
    "#                 sess.run(tf.global_variables_initializer())\n",
    "#             ls.append(sess.run(out, feed_dict={inputs: X}))"
   ]
  },
  {
   "cell_type": "code",
   "execution_count": null,
   "metadata": {
    "collapsed": true
   },
   "outputs": [],
   "source": [
    "# # confirm training = False but new init gives diff answers\n",
    "# with tf.Session() as sess:\n",
    "#     ls = []\n",
    "#     with tf.variable_scope('stoch_depth', reuse=tf.AUTO_REUSE):\n",
    "#         for i in range(3):\n",
    "#             out = architecture(inputs, False)\n",
    "#             sess.run(tf.global_variables_initializer())\n",
    "#             ls.append(sess.run(out, feed_dict={inputs: X}))"
   ]
  },
  {
   "cell_type": "code",
   "execution_count": null,
   "metadata": {
    "collapsed": true
   },
   "outputs": [],
   "source": [
    "# confirm training = True gives diff answers\n",
    "# with tf.Session() as sess:\n",
    "#     ls = []\n",
    "#     with tf.variable_scope('stoch_depth', reuse=tf.AUTO_REUSE):\n",
    "#         for i in range(3):\n",
    "#             out = architecture(inputs, True)\n",
    "#             if i == 0:\n",
    "#                 sess.run(tf.global_variables_initializer())\n",
    "#             ls.append(sess.run(out, feed_dict={inputs: X}))"
   ]
  }
 ],
 "metadata": {
  "kernelspec": {
   "display_name": "Python 3",
   "language": "python",
   "name": "python3"
  },
  "language_info": {
   "codemirror_mode": {
    "name": "ipython",
    "version": 3
   },
   "file_extension": ".py",
   "mimetype": "text/x-python",
   "name": "python",
   "nbconvert_exporter": "python",
   "pygments_lexer": "ipython3",
   "version": "3.6.2"
  }
 },
 "nbformat": 4,
 "nbformat_minor": 2
}
