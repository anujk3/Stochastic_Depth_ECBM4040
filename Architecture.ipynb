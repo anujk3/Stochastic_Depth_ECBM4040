{
 "cells": [
  {
   "cell_type": "code",
   "execution_count": 1,
   "metadata": {},
   "outputs": [],
   "source": [
    "import tensorflow as tf\n",
    "import numpy as np\n",
    "from layers import architecture"
   ]
  },
  {
   "cell_type": "markdown",
   "metadata": {},
   "source": [
    "# Use ADAM?\n",
    "# Use better initializations?"
   ]
  },
  {
   "cell_type": "markdown",
   "metadata": {},
   "source": [
    "OHE y"
   ]
  },
  {
   "cell_type": "code",
   "execution_count": null,
   "metadata": {},
   "outputs": [],
   "source": [
    "inputs = tf.placeholder(dtype=tf.float32, shape=[None, 32, 32, 16])\n",
    "random_rolls = tf.placeholder(dtype=tf.float32, shape=[54])\n",
    "weights = [var for var in tf.trainable_variables() if 'weights' in var.name]\n",
    "\n",
    "lr = 0.1\n",
    "weight_decay = 1e-4\n",
    "momentum = 0.9\n",
    "batch_size = 128\n",
    "train_size = 45000\n",
    "\n",
    "# both will have different graph structure, but will share weights.\n",
    "with tf.variable_scope('stoch_depth', reuse=tf.AUTO_REUSE):\n",
    "    out = architecture(inputs, random_rolls, True)\n",
    "    val_out = architecture(input_vals, random_rolls, False)\n",
    "\n",
    "val_acc = 100 * tf.reduce_sum(tf.argmax(tf.nn.softmax(val_out), axis=1) - tf.constant(y_val)) / len(y_val)\n",
    "loss = tf.reduce_mean(tf.nn.softmax_cross_entropy_with_logits(logits=out,\n",
    "                                                              labels=labels)) + \n",
    "       weight_decay * tf.add_n([tf.nn.l2_loss(weight) for weight in weights])\n",
    "step = tf.train.MomentumOptimizer(lr, momentum, use_nesterov=True).minimize(loss)"
   ]
  },
  {
   "cell_type": "code",
   "execution_count": 6,
   "metadata": {},
   "outputs": [],
   "source": [
    "with tf.Session() as sess: \n",
    "    merge = tf.summary.merge_all()\n",
    "    writer = tf.summary.FileWriter(\"log\", sess.graph)\n",
    "    saver = tf.train.Saver()\n",
    "    sess.run(tf.global_variables_initializer())\n",
    "    \n",
    "    start_index = 0\n",
    "    iter_number = -1\n",
    "    for epoch in range(500):\n",
    "        if epoch in (250, 375):\n",
    "            lr /= 10\n",
    "        for _ in range(train_size // batch_size):\n",
    "            iter_number += 1\n",
    "            if start_index + batch_size >= train_size:\n",
    "                diff = start_index + batch_size - train_size\n",
    "                indices = list(range(start_index, train_size)) + list(range(diff))\n",
    "                start_index = diff\n",
    "            else:\n",
    "                indices = list(range(start_index, start_index + batch_size))\n",
    "                start_index += batch_size\n",
    "\n",
    "            X_train_batch, y_train_batch = X_train[indices], y_train[indices]\n",
    "            y_train_labels = tf.one_hot(y_train_batch, 10)\n",
    "            # data augmentation\n",
    "            x_offset = np.random.randint(-4, 4)\n",
    "            y_offset = np.random.randint(-4, 4)\n",
    "            flip_bool = np.random.uniform() > .5\n",
    "            X_train_batch = np.roll(X_train_batch, (x_offset, y_offset), axis=(1, 2))\n",
    "            if flip_bool:\n",
    "                X_train_batch = np.flip(X_train_batch, axis=2)\n",
    "\n",
    "            random_rolls_batch = np.random.uniform(size=54)\n",
    "            _, loss_val = sess.run([step, loss], feed_dict={inputs: X_train_batch,\n",
    "                                                            random_rolls: random_rolls_batch,\n",
    "                                                            labels: y_train_labels})\n",
    "            if iter_number % 100 == 0:\n",
    "                val, merge_result = sess.run([val_acc, merge], feed_dict={input_vals: X_val,\n",
    "                                                                          random_rolls: random_rolls_batch}) # random_rolls is irrelevant\n",
    "                writer.add_summary(merge_result, iter_number)\n",
    "        \n",
    "            \n",
    "    writer.close()"
   ]
  },
  {
   "cell_type": "markdown",
   "metadata": {},
   "source": [
    "# Tests (ignore)"
   ]
  },
  {
   "cell_type": "code",
   "execution_count": 7,
   "metadata": {},
   "outputs": [],
   "source": [
    "# # confirm tensorboard\n",
    "# random_rolls_batch = np.random.uniform(size=54)\n",
    "# out = architecture(inputs, random_rolls, True)\n",
    "# with tf.Session() as sess:\n",
    "#     writer = tf.summary.FileWriter('logs', sess.graph)\n",
    "#     sess.run(tf.global_variables_initializer())\n",
    "#     sess.run(out, feed_dict={inputs: X,\n",
    "#                              random_rolls: random_rolls_batch})\n",
    "#     writer.close()"
   ]
  },
  {
   "cell_type": "code",
   "execution_count": 8,
   "metadata": {},
   "outputs": [],
   "source": [
    "# # confirm training = False gives same answers\n",
    "# with tf.Session() as sess:\n",
    "#     ls = []\n",
    "#     with tf.variable_scope('stoch_depth', reuse=tf.AUTO_REUSE):\n",
    "#         for i in range(3):\n",
    "#             out = architecture(inputs, False)\n",
    "#             if i == 0:\n",
    "#                 sess.run(tf.global_variables_initializer())\n",
    "#             ls.append(sess.run(out, feed_dict={inputs: X}))"
   ]
  },
  {
   "cell_type": "code",
   "execution_count": 9,
   "metadata": {},
   "outputs": [],
   "source": [
    "# # confirm training = False but new init gives diff answers\n",
    "# with tf.Session() as sess:\n",
    "#     ls = []\n",
    "#     with tf.variable_scope('stoch_depth', reuse=tf.AUTO_REUSE):\n",
    "#         for i in range(3):\n",
    "#             out = architecture(inputs, False)\n",
    "#             sess.run(tf.global_variables_initializer())\n",
    "#             ls.append(sess.run(out, feed_dict={inputs: X}))"
   ]
  },
  {
   "cell_type": "code",
   "execution_count": 10,
   "metadata": {},
   "outputs": [],
   "source": [
    "# confirm training = True gives diff answers\n",
    "# with tf.Session() as sess:\n",
    "#     ls = []\n",
    "#     with tf.variable_scope('stoch_depth', reuse=tf.AUTO_REUSE):\n",
    "#         for i in range(3):\n",
    "#             out = architecture(inputs, True)\n",
    "#             if i == 0:\n",
    "#                 sess.run(tf.global_variables_initializer())\n",
    "#             ls.append(sess.run(out, feed_dict={inputs: X}))"
   ]
  }
 ],
 "metadata": {
  "kernelspec": {
   "display_name": "Python 3",
   "language": "python",
   "name": "python3"
  },
  "language_info": {
   "codemirror_mode": {
    "name": "ipython",
    "version": 3
   },
   "file_extension": ".py",
   "mimetype": "text/x-python",
   "name": "python",
   "nbconvert_exporter": "python",
   "pygments_lexer": "ipython3",
   "version": "3.5.2"
  }
 },
 "nbformat": 4,
 "nbformat_minor": 2
}
