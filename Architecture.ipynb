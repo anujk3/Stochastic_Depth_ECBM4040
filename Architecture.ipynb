{
 "cells": [
  {
   "cell_type": "code",
   "execution_count": 1,
   "metadata": {},
   "outputs": [],
   "source": [
    "import tensorflow as tf\n",
    "import numpy as np"
   ]
  },
  {
   "cell_type": "code",
   "execution_count": 2,
   "metadata": {},
   "outputs": [],
   "source": [
    "from layers import *"
   ]
  },
  {
   "cell_type": "code",
   "execution_count": 3,
   "metadata": {},
   "outputs": [],
   "source": [
    "X = np.random.normal(size=[128, 32, 32, 16])"
   ]
  },
  {
   "cell_type": "code",
   "execution_count": 4,
   "metadata": {},
   "outputs": [],
   "source": [
    "inputs = tf.placeholder(dtype=tf.float32, shape=[None, 32, 32, 16])"
   ]
  },
  {
   "cell_type": "code",
   "execution_count": 5,
   "metadata": {},
   "outputs": [],
   "source": [
    "def architecture(inputs, training):\n",
    "    P = 0.5\n",
    "    L = 54\n",
    "    l = 1\n",
    "\n",
    "    out = first_layer(inputs, training, 'input')\n",
    "\n",
    "    with tf.variable_scope('stack1', reuse=tf.AUTO_REUSE):\n",
    "        for i in range(1, 19):\n",
    "            p = 1 - l/L * (1 - P)\n",
    "            out = residual_block(out, 16, p, training, 'res'+str(i))\n",
    "            l += 1\n",
    "\n",
    "    with tf.variable_scope('stack2', reuse=tf.AUTO_REUSE):\n",
    "        p = 1 - l/L * (1 - P)\n",
    "        out = transition_block(out, 32, p, training, 'res'+str(1))\n",
    "        l += 1\n",
    "\n",
    "        for i in range(2, 19):\n",
    "            p = 1 - l/L * (1 - P)\n",
    "            out = residual_block(out, 32, p, training, 'res'+str(i))\n",
    "            l += 1\n",
    "\n",
    "    with tf.variable_scope('stack3', reuse=tf.AUTO_REUSE):\n",
    "        p = 1 - l/L * (1 - P)\n",
    "        out = transition_block(out, 64, p, training, 'res'+str(1))\n",
    "        l += 1\n",
    "\n",
    "        for i in range(2, 19):\n",
    "            p = 1 - l/L * (1 - P)\n",
    "            out = residual_block(out, 64, p, training, 'res'+str(i))\n",
    "\n",
    "    return output_layer(out, 'out', 10)"
   ]
  },
  {
   "cell_type": "code",
   "execution_count": 6,
   "metadata": {},
   "outputs": [],
   "source": [
    "out = architecture(inputs, True)\n",
    "with tf.Session() as sess:\n",
    "    writer = tf.summary.FileWriter('logs', sess.graph)\n",
    "    sess.run(tf.global_variables_initializer())\n",
    "    sess.run(out, feed_dict={inputs: X})\n",
    "    writer.close()"
   ]
  },
  {
   "cell_type": "code",
   "execution_count": 7,
   "metadata": {},
   "outputs": [],
   "source": [
    "# with tf.Session() as sess:\n",
    "#     ls = []\n",
    "#     with tf.variable_scope('stoch_depth', reuse=tf.AUTO_REUSE):\n",
    "#         for i in range(3):\n",
    "#             out = architecture(inputs, True)\n",
    "#             if i == 0:\n",
    "#                 sess.run(tf.global_variables_initializer())\n",
    "#             ls.append(sess.run(out, feed_dict={inputs: X}))"
   ]
  }
 ],
 "metadata": {
  "kernelspec": {
   "display_name": "Python 3",
   "language": "python",
   "name": "python3"
  },
  "language_info": {
   "codemirror_mode": {
    "name": "ipython",
    "version": 3
   },
   "file_extension": ".py",
   "mimetype": "text/x-python",
   "name": "python",
   "nbconvert_exporter": "python",
   "pygments_lexer": "ipython3",
   "version": "3.5.2"
  }
 },
 "nbformat": 4,
 "nbformat_minor": 2
}
