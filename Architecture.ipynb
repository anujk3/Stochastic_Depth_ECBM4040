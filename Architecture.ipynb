{
 "cells": [
  {
   "cell_type": "code",
   "execution_count": 1,
   "metadata": {},
   "outputs": [],
   "source": [
    "import tensorflow as tf\n",
    "import numpy as np"
   ]
  },
  {
   "cell_type": "code",
   "execution_count": 2,
   "metadata": {},
   "outputs": [],
   "source": [
    "from layers import *"
   ]
  },
  {
   "cell_type": "code",
   "execution_count": 3,
   "metadata": {},
   "outputs": [],
   "source": [
    "X = np.random.normal(size=[128, 32, 32, 16])"
   ]
  },
  {
   "cell_type": "code",
   "execution_count": 4,
   "metadata": {},
   "outputs": [],
   "source": [
    "inputs = tf.placeholder(dtype=tf.float32, shape=[None, 32, 32, 16])"
   ]
  },
  {
   "cell_type": "code",
   "execution_count": 5,
   "metadata": {},
   "outputs": [],
   "source": [
    "# def architecture(inputs, training):\n",
    "#     P = 0.5\n",
    "#     L = 54\n",
    "#     l = 1\n",
    "    \n",
    "#     out = first_layer(inputs, training, 'input')\n",
    "\n",
    "#     with tf.variable_scope('stack1', reuse=tf.AUTO_REUSE, initializer=tf.global_variables_initializer()):\n",
    "#         for i in range(1, 19):\n",
    "#             p = 1 - l/L * (1 - P)\n",
    "#             out = residual_block(out, 16, p, training, 'res'+str(i))\n",
    "#             l += 1\n",
    "\n",
    "#     with tf.variable_scope('stack2', reuse=tf.AUTO_REUSE, initializer=tf.global_variables_initializer()):\n",
    "#         p = 1 - l/L * (1 - P)\n",
    "#         out = transition_block(out, 32, p, training, 'res'+str(1))\n",
    "#         l += 1\n",
    "#         for i in range(2, 19):\n",
    "#             p = 1 - l/L * (1 - P)\n",
    "#             out = residual_block(out, 32, p, training, 'res'+str(i))\n",
    "#             l += 1\n",
    "\n",
    "#     with tf.variable_scope('stack3', reuse=tf.AUTO_REUSE, initializer=tf.global_variables_initializer()):\n",
    "#         p = 1 - l/L * (1 - P)\n",
    "#         out = transition_block(out, 64, p, training, 'res'+str(1))\n",
    "#         l += 1\n",
    "#         for i in range(2, 19):\n",
    "#             p = 1 - l/L * (1 - P)\n",
    "#             out = residual_block(out, 64, p, training, 'res'+str(i)) \n",
    "\n",
    "#     return output_layer(out, 'out', 10)"
   ]
  },
  {
   "cell_type": "markdown",
   "metadata": {},
   "source": [
    "1. dynamic computation graph library\n",
    "2. change code such that if else logic is within Session"
   ]
  },
  {
   "cell_type": "code",
   "execution_count": 6,
   "metadata": {},
   "outputs": [],
   "source": [
    "def architecture(inputs, training):\n",
    "    P = 0.5\n",
    "    L = 54\n",
    "    l = 1\n",
    "\n",
    "    out = first_layer(inputs, training, 'input')\n",
    "\n",
    "    with tf.variable_scope('stack1', reuse=tf.AUTO_REUSE):\n",
    "        for i in range(1, 19):\n",
    "            p = 1 - l/L * (1 - P)\n",
    "            bernoulli = np.random.uniform()\n",
    "            survives = tf.less(bernoulli, p)\n",
    "            out = tf.cond(survives,\n",
    "                          lambda: residual_block(out, 16, 1, training, 'res_surv'+str(i)),\n",
    "                          lambda: residual_block(out, 16, 0, training, 'res_not_surv'+str(i)))\n",
    "            l += 1\n",
    "\n",
    "    with tf.variable_scope('stack2', reuse=tf.AUTO_REUSE):\n",
    "        p = 1 - l/L * (1 - P)\n",
    "        bernoulli = np.random.uniform()\n",
    "        survives = tf.less(bernoulli, p)\n",
    "        out = tf.cond(survives,\n",
    "                      lambda: transition_block(out, 32, 1, training, 'res_surv'+str(1)),\n",
    "                      lambda: transition_block(out, 32, 0, training, 'res_not_surv'+str(1)))\n",
    "        l += 1\n",
    "\n",
    "        for i in range(2, 19):\n",
    "            p = 1 - l/L * (1 - P)\n",
    "            bernoulli = np.random.uniform()\n",
    "            survives = tf.less(bernoulli, p)\n",
    "            out = tf.cond(survives,\n",
    "                          lambda: residual_block(out, 32, 1, training, 'res_surv'+str(i)),\n",
    "                          lambda: residual_block(out, 32, 0, training, 'res_not_surv'+str(i)))\n",
    "            l += 1\n",
    "\n",
    "    with tf.variable_scope('stack3', reuse=tf.AUTO_REUSE):\n",
    "        p = 1 - l/L * (1 - P)\n",
    "        bernoulli = np.random.uniform()\n",
    "        survives = tf.less(bernoulli, p)\n",
    "        out = tf.cond(survives,\n",
    "                      lambda: transition_block(out, 64, 1, training, 'res_surv'+str(1)),\n",
    "                      lambda: transition_block(out, 64, 0, training, 'res_not_surv'+str(1)))\n",
    "        l += 1\n",
    "\n",
    "        for i in range(2, 19):\n",
    "            p = 1 - l/L * (1 - P)\n",
    "            bernoulli = np.random.uniform()\n",
    "            survives = tf.less(bernoulli, p)\n",
    "            out = tf.cond(survives,\n",
    "                          lambda: residual_block(out, 64, 1, training, 'res_surv'+str(i)),\n",
    "                          lambda: residual_block(out, 64, 0, training, 'res_not_surv'+str(i)))\n",
    "\n",
    "    return output_layer(out, 'out', 10)"
   ]
  },
  {
   "cell_type": "code",
   "execution_count": 7,
   "metadata": {},
   "outputs": [
    {
     "name": "stdout",
     "output_type": "stream",
     "text": [
      "0\n",
      "1\n"
     ]
    }
   ],
   "source": [
    "with tf.Session() as sess:\n",
    "#     writer = tf.summary.FileWriter('logs', sess.graph)\n",
    "    ls = []\n",
    "    for i in range(2):\n",
    "        with tf.variable_scope('stoch_depth', reuse=tf.AUTO_REUSE):\n",
    "            out = architecture(inputs, True)\n",
    "            if i == 0:\n",
    "                sess.run(tf.global_variables_initializer())\n",
    "            print(i)\n",
    "            ls.append(sess.run(out, feed_dict={inputs: X}))\n",
    "#     writer.close()"
   ]
  }
 ],
 "metadata": {
  "kernelspec": {
   "display_name": "Python 3",
   "language": "python",
   "name": "python3"
  },
  "language_info": {
   "codemirror_mode": {
    "name": "ipython",
    "version": 3
   },
   "file_extension": ".py",
   "mimetype": "text/x-python",
   "name": "python",
   "nbconvert_exporter": "python",
   "pygments_lexer": "ipython3",
   "version": "3.5.2"
  }
 },
 "nbformat": 4,
 "nbformat_minor": 2
}
