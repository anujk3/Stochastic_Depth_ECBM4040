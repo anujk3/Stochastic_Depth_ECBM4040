{
 "cells": [
  {
   "cell_type": "code",
   "execution_count": 1,
   "metadata": {},
   "outputs": [],
   "source": [
    "import tensorflow as tf\n",
    "import numpy as np\n",
    "from layers import architecture, evaluate\n",
    "from utils.cifar_utils import load_data"
   ]
  },
  {
   "cell_type": "code",
   "execution_count": 2,
   "metadata": {},
   "outputs": [
    {
     "name": "stdout",
     "output_type": "stream",
     "text": [
      "./data/cifar-10-python.tar.gz already exists. Begin extracting...\n",
      "./data/cifar-10-python.tar.gz already exists. Begin extracting...\n"
     ]
    }
   ],
   "source": [
    "# Load the raw CIFAR-10 data.\n",
    "X_train, y_train = load_data(mode='train')\n",
    "X_test, y_test = load_data(mode='test')\n",
    "\n",
    "# Data organizations:\n",
    "# Train data: 49000 samples from original train set: 1~49000\n",
    "# Validation data: 1000 samples from original train set: 49000~50000\n",
    "num_training = 45000\n",
    "num_validation = 5000\n",
    "\n",
    "X_val = X_train[-num_validation:, :]\n",
    "y_val = y_train[-num_validation:]\n",
    "\n",
    "X_train = X_train[:num_training, :]\n",
    "y_train = y_train[:num_training]"
   ]
  },
  {
   "cell_type": "code",
   "execution_count": 3,
   "metadata": {},
   "outputs": [],
   "source": [
    "# # Preprocessing: subtract the mean value across every dimension for training data, and reshape it to be RGB size\n",
    "# mean_image = np.mean(X_train, axis=0)\n",
    "# std_image = np.std(X_train, axis=0)\n",
    "\n",
    "# X_train = (X_train.astype(np.float32) - mean_image.astype(np.float32)) / std_image\n",
    "# X_val = (X_val.astype(np.float32) - mean_image) / std_image\n",
    "# X_test = (X_test.astype(np.float32) - mean_image) / std_image"
   ]
  },
  {
   "cell_type": "code",
   "execution_count": 4,
   "metadata": {},
   "outputs": [
    {
     "name": "stdout",
     "output_type": "stream",
     "text": [
      "Train data shape:  (45000, 32, 32, 3)\n",
      "Train labels shape:  (45000,)\n",
      "Validation data shape:  (5000, 32, 32, 3)\n",
      "Validation labels shape:  (5000,)\n",
      "Test data shape (10000, 32, 32, 3)\n",
      "Test labels shape (10000,)\n"
     ]
    }
   ],
   "source": [
    "X_train = X_train.reshape([X_train.shape[0],3,32,32]).transpose((0,2,3,1))\n",
    "X_val = X_val.reshape([X_val.shape[0],3,32,32]).transpose((0,2,3,1))\n",
    "X_test = X_test.reshape([X_test.shape[0],3,32,32]).transpose((0,2,3,1))\n",
    "\n",
    "print('Train data shape: ', X_train.shape)\n",
    "print('Train labels shape: ', y_train.shape)\n",
    "print('Validation data shape: ', X_val.shape)\n",
    "print('Validation labels shape: ', y_val.shape)\n",
    "print('Test data shape', X_test.shape)\n",
    "print('Test labels shape', y_test.shape)"
   ]
  },
  {
   "cell_type": "markdown",
   "metadata": {},
   "source": [
    "# change ADAM?\n",
    "# Use better initializations for batch_norm?\n",
    "# add model saver/checkpointer. In addition keep track of best validation error and save that model"
   ]
  },
  {
   "cell_type": "code",
   "execution_count": 5,
   "metadata": {},
   "outputs": [],
   "source": [
    "inputs = tf.placeholder(dtype=tf.float32, shape=[None, 32, 32, 3])\n",
    "random_rolls = tf.placeholder(dtype=tf.float32, shape=[54])\n",
    "y_inputs = tf.placeholder(dtype=tf.uint8, shape=[None])\n",
    "is_training = tf.placeholder(dtype=tf.bool)\n",
    "\n",
    "lr = 0.1\n",
    "weight_decay = 1e-4\n",
    "momentum = 0.9\n",
    "batch_size = 128\n",
    "train_size = 45000\n",
    "epochs = 500\n",
    "\n",
    "out = architecture(inputs, random_rolls, is_training)\n",
    "labels = tf.one_hot(y_inputs, 10)\n",
    "softmax_loss = tf.reduce_mean(tf.nn.softmax_cross_entropy_with_logits(logits=out, labels=labels))\n",
    "# confirm this is right\n",
    "regularizer_loss = weight_decay * tf.add_n([tf.nn.l2_loss(var) for var in tf.trainable_variables('stoch_depth')\n",
    "                                            if 'weights' in var.name])\n",
    "loss = softmax_loss + regularizer_loss\n",
    "training_summary = tf.summary.scalar('train_loss', loss)\n",
    "step = tf.train.MomentumOptimizer(lr, momentum, use_nesterov=True).minimize(loss)\n",
    "# step = tf.train.AdamOptimizer(lr).minimize(loss)\n",
    "eve = evaluate(out, y_val)\n",
    "validation_summary = tf.summary.scalar('Stoch_error', 100 * eve / len(y_val))"
   ]
  },
  {
   "cell_type": "code",
   "execution_count": 6,
   "metadata": {},
   "outputs": [],
   "source": [
    "# from datetime import datetime\n",
    "# now = datetime.now()\n",
    "# logdir = \"tf_logs/\" + now.strftime(\"%Y%m%d-%H%M%S\") + \"/\""
   ]
  },
  {
   "cell_type": "markdown",
   "metadata": {},
   "source": [
    "# Tests (ignore)"
   ]
  },
  {
   "cell_type": "code",
   "execution_count": 7,
   "metadata": {},
   "outputs": [],
   "source": [
    "# confirm tensorboard\n",
    "random_rolls_batch = np.random.uniform(size=54)\n",
    "X_train_batch = X_train[list(range(20))]\n",
    "with tf.Session() as sess:\n",
    "    writer = tf.summary.FileWriter('logs', sess.graph)\n",
    "    sess.run(tf.global_variables_initializer())\n",
    "    sess.run(out, feed_dict={inputs: X_train_batch,\n",
    "                             random_rolls: random_rolls_batch,\n",
    "                             is_training: True})\n",
    "    sess.run(out, feed_dict={inputs: X_val,\n",
    "                             random_rolls: random_rolls_batch,\n",
    "                             is_training: False})\n",
    "    writer.close()"
   ]
  },
  {
   "cell_type": "code",
   "execution_count": 8,
   "metadata": {},
   "outputs": [],
   "source": [
    "# # confirm training = False gives same answers\n",
    "# with tf.Session() as sess:\n",
    "#     ls = []\n",
    "#     with tf.variable_scope('stoch_depth', reuse=tf.AUTO_REUSE):\n",
    "#         for i in range(3):\n",
    "#             out = architecture(inputs, False)\n",
    "#             if i == 0:\n",
    "#                 sess.run(tf.global_variables_initializer())\n",
    "#             ls.append(sess.run(out, feed_dict={inputs: X}))"
   ]
  },
  {
   "cell_type": "code",
   "execution_count": 9,
   "metadata": {},
   "outputs": [],
   "source": [
    "# # confirm training = False but new init gives diff answers\n",
    "# with tf.Session() as sess:\n",
    "#     ls = []\n",
    "#     with tf.variable_scope('stoch_depth', reuse=tf.AUTO_REUSE):\n",
    "#         for i in range(3):\n",
    "#             out = architecture(inputs, False)\n",
    "#             sess.run(tf.global_variables_initializer())\n",
    "#             ls.append(sess.run(out, feed_dict={inputs: X}))"
   ]
  },
  {
   "cell_type": "code",
   "execution_count": 10,
   "metadata": {},
   "outputs": [],
   "source": [
    "# confirm training = True gives diff answers\n",
    "# with tf.Session() as sess:\n",
    "#     ls = []\n",
    "#     with tf.variable_scope('stoch_depth', reuse=tf.AUTO_REUSE):\n",
    "#         for i in range(3):\n",
    "#             out = architecture(inputs, True)\n",
    "#             if i == 0:\n",
    "#                 sess.run(tf.global_variables_initializer())\n",
    "#             ls.append(sess.run(out, feed_dict={inputs: X}))"
   ]
  }
 ],
 "metadata": {
  "kernelspec": {
   "display_name": "Python 3",
   "language": "python",
   "name": "python3"
  },
  "language_info": {
   "codemirror_mode": {
    "name": "ipython",
    "version": 3
   },
   "file_extension": ".py",
   "mimetype": "text/x-python",
   "name": "python",
   "nbconvert_exporter": "python",
   "pygments_lexer": "ipython3",
   "version": "3.5.2"
  }
 },
 "nbformat": 4,
 "nbformat_minor": 2
}
