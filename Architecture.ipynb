{
 "cells": [
  {
   "cell_type": "code",
   "execution_count": 1,
   "metadata": {},
   "outputs": [],
   "source": [
    "import tensorflow as tf\n",
    "import numpy as np"
   ]
  },
  {
   "cell_type": "code",
   "execution_count": 2,
   "metadata": {},
   "outputs": [],
   "source": [
    "from layers import *"
   ]
  },
  {
   "cell_type": "code",
   "execution_count": 3,
   "metadata": {},
   "outputs": [],
   "source": [
    "X = np.random.normal(size=[128, 32, 32, 16])"
   ]
  },
  {
   "cell_type": "code",
   "execution_count": 6,
   "metadata": {},
   "outputs": [],
   "source": [
    "P = .5\n",
    "L = 54\n",
    "l = 1"
   ]
  },
  {
   "cell_type": "code",
   "execution_count": 7,
   "metadata": {},
   "outputs": [],
   "source": [
    "inputs = tf.placeholder(dtype=tf.float32, shape=[None, 32, 32, 16])\n",
    "out = first_layer(inputs, True, 'input')\n",
    "\n",
    "outer_scope = 'stack1'\n",
    "for i in range(18):\n",
    "    p = 1 - l/L * (1 - P)\n",
    "    out = residual_block(out, 16, p, True, outer_scope, str(i))\n",
    "    l += 1\n",
    "\n",
    "outer_scope = 'stack2'\n",
    "p = 1 - l/L * (1 - P)\n",
    "out = transition_block(out, 32, p, True, outer_scope, str(0))\n",
    "l += 1\n",
    "for i in range(1, 18):\n",
    "    p = 1 - l/L * (1 - P)\n",
    "    out = residual_block(out, 32, p, True, outer_scope, str(i))\n",
    "    l += 1\n",
    "\n",
    "outer_scope = 'stack3'\n",
    "p = 1 - l/L * (1 - P)\n",
    "out = transition_block(out, 64, p, True, outer_scope, str(0))\n",
    "l += 1\n",
    "for i in range(1, 18):\n",
    "    p = 1 - l/L * (1 - P)\n",
    "    out = residual_block(out, 64, p, True, outer_scope, str(i)) \n",
    "\n",
    "out = output_layer(out, 'out', 10)\n",
    "\n",
    "with tf.Session() as sess:\n",
    "    sess.run(tf.global_variables_initializer())\n",
    "    x = sess.run(out, feed_dict={inputs: X})"
   ]
  }
 ],
 "metadata": {
  "kernelspec": {
   "display_name": "Python 3",
   "language": "python",
   "name": "python3"
  },
  "language_info": {
   "codemirror_mode": {
    "name": "ipython",
    "version": 3
   },
   "file_extension": ".py",
   "mimetype": "text/x-python",
   "name": "python",
   "nbconvert_exporter": "python",
   "pygments_lexer": "ipython3",
   "version": "3.5.2"
  }
 },
 "nbformat": 4,
 "nbformat_minor": 2
}
