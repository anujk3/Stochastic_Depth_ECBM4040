{
 "cells": [
  {
   "cell_type": "code",
   "execution_count": 1,
   "metadata": {},
   "outputs": [],
   "source": [
    "import tensorflow as tf\n",
    "import numpy as np"
   ]
  },
  {
   "cell_type": "code",
   "execution_count": 2,
   "metadata": {},
   "outputs": [],
   "source": [
    "from layers import *"
   ]
  },
  {
   "cell_type": "code",
   "execution_count": 3,
   "metadata": {},
   "outputs": [],
   "source": [
    "X = np.random.normal(size=[128, 32, 32, 16])"
   ]
  },
  {
   "cell_type": "code",
   "execution_count": 4,
   "metadata": {},
   "outputs": [],
   "source": [
    "inputs = tf.placeholder(dtype=tf.float32, shape=[None, 32, 32, 16])"
   ]
  },
  {
   "cell_type": "code",
   "execution_count": 5,
   "metadata": {},
   "outputs": [],
   "source": [
    "# def architecture(inputs, training):\n",
    "#     P = 0.5\n",
    "#     L = 54\n",
    "#     l = 1\n",
    "    \n",
    "#     out = first_layer(inputs, training, 'input')\n",
    "\n",
    "#     with tf.variable_scope('stack1', reuse=tf.AUTO_REUSE, initializer=tf.global_variables_initializer()):\n",
    "#         for i in range(1, 19):\n",
    "#             p = 1 - l/L * (1 - P)\n",
    "#             out = residual_block(out, 16, p, training, 'res'+str(i))\n",
    "#             l += 1\n",
    "\n",
    "#     with tf.variable_scope('stack2', reuse=tf.AUTO_REUSE, initializer=tf.global_variables_initializer()):\n",
    "#         p = 1 - l/L * (1 - P)\n",
    "#         out = transition_block(out, 32, p, training, 'res'+str(1))\n",
    "#         l += 1\n",
    "#         for i in range(2, 19):\n",
    "#             p = 1 - l/L * (1 - P)\n",
    "#             out = residual_block(out, 32, p, training, 'res'+str(i))\n",
    "#             l += 1\n",
    "\n",
    "#     with tf.variable_scope('stack3', reuse=tf.AUTO_REUSE, initializer=tf.global_variables_initializer()):\n",
    "#         p = 1 - l/L * (1 - P)\n",
    "#         out = transition_block(out, 64, p, training, 'res'+str(1))\n",
    "#         l += 1\n",
    "#         for i in range(2, 19):\n",
    "#             p = 1 - l/L * (1 - P)\n",
    "#             out = residual_block(out, 64, p, training, 'res'+str(i)) \n",
    "\n",
    "#     return output_layer(out, 'out', 10)"
   ]
  },
  {
   "cell_type": "markdown",
   "metadata": {},
   "source": [
    "1. dynamic computation graph library\n",
    "2. change code such that if else logic is within Session"
   ]
  },
  {
   "cell_type": "markdown",
   "metadata": {},
   "source": [
    "# MOVE CONDITION TO LAYERS"
   ]
  },
  {
   "cell_type": "code",
   "execution_count": 6,
   "metadata": {},
   "outputs": [],
   "source": [
    "def architecture(inputs, training):\n",
    "    P = 0.5\n",
    "    L = 54\n",
    "    l = 1\n",
    "\n",
    "    out = first_layer(inputs, training, 'input')\n",
    "\n",
    "    with tf.variable_scope('stack1', reuse=tf.AUTO_REUSE):\n",
    "        for i in range(1, 19):\n",
    "            p = 1 - l/L * (1 - P)\n",
    "            out = residual_block(out, 16, p, training, 'res'+str(i))\n",
    "            l += 1\n",
    "\n",
    "    with tf.variable_scope('stack2', reuse=tf.AUTO_REUSE):\n",
    "        p = 1 - l/L * (1 - P)\n",
    "        out = transition_block(out, 32, p, training, 'res'+str(1))\n",
    "        l += 1\n",
    "\n",
    "        for i in range(2, 19):\n",
    "            p = 1 - l/L * (1 - P)\n",
    "            out = residual_block(out, 32, p, training, 'res'+str(i))\n",
    "            l += 1\n",
    "\n",
    "    with tf.variable_scope('stack3', reuse=tf.AUTO_REUSE):\n",
    "        p = 1 - l/L * (1 - P)\n",
    "        out = transition_block(out, 64, p, training, 'res'+str(1))\n",
    "        l += 1\n",
    "\n",
    "        for i in range(2, 19):\n",
    "            p = 1 - l/L * (1 - P)\n",
    "            out = residual_block(out, 64, p, training, 'res'+str(i))\n",
    "\n",
    "    return output_layer(out, 'out', 10)"
   ]
  },
  {
   "cell_type": "code",
   "execution_count": 7,
   "metadata": {},
   "outputs": [],
   "source": [
    "# out = architecture(inputs, True)\n",
    "# with tf.Session() as sess:\n",
    "#     writer = tf.summary.FileWriter('logs', sess.graph)\n",
    "#     sess.run(tf.global_variables_initializer())\n",
    "#     sess.run(out, feed_dict={inputs: X})\n",
    "#     writer.close()"
   ]
  },
  {
   "cell_type": "code",
   "execution_count": 8,
   "metadata": {},
   "outputs": [],
   "source": [
    "with tf.Session() as sess:\n",
    "    ls = []\n",
    "    with tf.variable_scope('stoch_depth', reuse=tf.AUTO_REUSE):\n",
    "        for i in range(3):\n",
    "            out = architecture(inputs, True)\n",
    "            if i == 0:\n",
    "                sess.run(tf.global_variables_initializer())\n",
    "            ls.append(sess.run(out, feed_dict={inputs: X}))"
   ]
  },
  {
   "cell_type": "code",
   "execution_count": null,
   "metadata": {},
   "outputs": [],
   "source": []
  },
  {
   "cell_type": "code",
   "execution_count": 10,
   "metadata": {},
   "outputs": [
    {
     "data": {
      "text/plain": [
       "array([[  6.11835858e-05,   5.91034710e-04,   1.10002968e-03, ...,\n",
       "          3.32958857e-03,   1.63330894e-03,   7.68103898e-01],\n",
       "       [  8.69484793e-05,   8.39763961e-04,   1.41214649e-03, ...,\n",
       "          2.75723264e-03,   4.04428598e-03,   8.17860901e-01],\n",
       "       [  8.71264710e-05,   1.19447708e-03,   1.61293463e-03, ...,\n",
       "          7.02259457e-03,   2.81855580e-03,   5.56120336e-01],\n",
       "       ..., \n",
       "       [  1.51614047e-04,   9.87395993e-04,   1.04816922e-03, ...,\n",
       "          3.46882432e-03,   2.19624001e-03,   6.74196422e-01],\n",
       "       [  1.85011202e-04,   1.23244326e-03,   2.02679751e-03, ...,\n",
       "          5.92566282e-03,   4.88184625e-03,   6.63337469e-01],\n",
       "       [  6.05934110e-05,   7.25970429e-04,   1.09235640e-03, ...,\n",
       "          3.71695752e-03,   1.88866572e-03,   7.80937791e-01]], dtype=float32)"
      ]
     },
     "execution_count": 10,
     "metadata": {},
     "output_type": "execute_result"
    }
   ],
   "source": [
    "ls[1]"
   ]
  },
  {
   "cell_type": "code",
   "execution_count": 9,
   "metadata": {},
   "outputs": [
    {
     "data": {
      "text/plain": [
       "array([[  6.74874900e-05,   6.24600565e-04,   8.69131763e-04, ...,\n",
       "          2.93786358e-03,   2.89526256e-03,   6.81755960e-01],\n",
       "       [  2.03521340e-04,   5.71817218e-04,   2.04246095e-03, ...,\n",
       "          3.94998910e-03,   5.24952728e-03,   6.02334797e-01],\n",
       "       [  6.17716942e-05,   6.61844213e-04,   9.24532535e-04, ...,\n",
       "          3.82509595e-03,   2.74868240e-03,   7.88411736e-01],\n",
       "       ..., \n",
       "       [  1.65142439e-04,   1.05400104e-03,   1.81413803e-03, ...,\n",
       "          1.07103279e-02,   4.76517575e-03,   6.84393048e-01],\n",
       "       [  2.02290350e-04,   7.10382650e-04,   2.05792370e-03, ...,\n",
       "          8.42157006e-03,   8.29939824e-03,   6.39934897e-01],\n",
       "       [  4.59643270e-05,   7.78849528e-04,   6.26551453e-04, ...,\n",
       "          2.72248103e-03,   2.04261648e-03,   7.78139472e-01]], dtype=float32)"
      ]
     },
     "execution_count": 9,
     "metadata": {},
     "output_type": "execute_result"
    }
   ],
   "source": [
    "ls[0]"
   ]
  }
 ],
 "metadata": {
  "kernelspec": {
   "display_name": "Python 3",
   "language": "python",
   "name": "python3"
  },
  "language_info": {
   "codemirror_mode": {
    "name": "ipython",
    "version": 3
   },
   "file_extension": ".py",
   "mimetype": "text/x-python",
   "name": "python",
   "nbconvert_exporter": "python",
   "pygments_lexer": "ipython3",
   "version": "3.5.2"
  }
 },
 "nbformat": 4,
 "nbformat_minor": 2
}
